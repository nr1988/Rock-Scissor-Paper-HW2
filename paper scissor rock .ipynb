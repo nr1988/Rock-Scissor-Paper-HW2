{
 "cells": [
  {
   "cell_type": "code",
   "execution_count": null,
   "metadata": {},
   "outputs": [],
   "source": [
    "a=20\n",
    "while (a>0):\n",
    "    print(a)\n",
    "    a-=1"
   ]
  },
  {
   "cell_type": "code",
   "execution_count": null,
   "metadata": {},
   "outputs": [],
   "source": [
    "quit=input('Type \"enter\"to quit: ')\n",
    "while quit !=\"enter\" :\n",
    "    quit= input('Type \"enter\" to quit:')"
   ]
  },
  {
   "cell_type": "code",
   "execution_count": null,
   "metadata": {},
   "outputs": [],
   "source": [
    "while True:\n",
    "    usercm = input(\"Please enter your command \")\n",
    "    if usercm=='quit':\n",
    "        break\n",
    "    else:\n",
    "        print(\"You typed\" + usercm )\n",
    " "
   ]
  },
  {
   "cell_type": "code",
   "execution_count": 1,
   "metadata": {},
   "outputs": [
    {
     "name": "stdout",
     "output_type": "stream",
     "text": [
      "what's your name?nava\n",
      "whats your name?jj\n",
      "nava,Do you want to choose Rock,paper or scissors? rock\n",
      "jj,Do you want to choose Rock , paper or scissor?paper\n",
      "Paper wins\n"
     ]
    }
   ],
   "source": [
    "#import sys\n",
    "\n",
    "user1=input(\"what's your name?\")\n",
    "user2=input(\"whats your name?\")\n",
    "user1_answer=input(\"%s,Do you want to choose Rock,paper or scissors? \"%user1)\n",
    "user2_answer=input(\"%s,Do you want to choose Rock , paper or scissor?\" %user2 )\n",
    "\n",
    "def compare(u1,u2):\n",
    "    if u1==u2:\n",
    "        return(\"Its a tie\")\n",
    "    elif u1 =='rock':\n",
    "        if u2=='scissors':\n",
    "            return (\"rock wins!\")\n",
    "        else:\n",
    "            return('Paper wins')\n",
    "    elif u1=='scissors':\n",
    "        if u2=='paper':\n",
    "            return('scissor wins')\n",
    "        else:\n",
    "            return('Rock wins!')\n",
    "    elif u1==\"Paper\":\n",
    "        if u2=='rock':\n",
    "            return(\"paper wins\")\n",
    "        else:\n",
    "            return ('scissor winss')\n",
    "    else:\n",
    "            return (\"Invalid input! Please try again \")\n",
    "            #sys.exit \n",
    "\n",
    "print(compare(user1_answer,user2_answer))        \n",
    "        "
   ]
  },
  {
   "cell_type": "code",
   "execution_count": null,
   "metadata": {},
   "outputs": [],
   "source": []
  },
  {
   "cell_type": "code",
   "execution_count": null,
   "metadata": {},
   "outputs": [],
   "source": []
  }
 ],
 "metadata": {
  "kernelspec": {
   "display_name": "Python 3",
   "language": "python",
   "name": "python3"
  },
  "language_info": {
   "codemirror_mode": {
    "name": "ipython",
    "version": 3
   },
   "file_extension": ".py",
   "mimetype": "text/x-python",
   "name": "python",
   "nbconvert_exporter": "python",
   "pygments_lexer": "ipython3",
   "version": "3.7.1"
  }
 },
 "nbformat": 4,
 "nbformat_minor": 2
}
