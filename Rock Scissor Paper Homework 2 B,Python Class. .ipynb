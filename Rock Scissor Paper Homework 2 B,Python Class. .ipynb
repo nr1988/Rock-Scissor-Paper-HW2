{
 "cells": [
  {
   "cell_type": "code",
   "execution_count": 8,
   "metadata": {},
   "outputs": [
    {
     "ename": "IndentationError",
     "evalue": "unexpected indent (<ipython-input-8-ac66f95b8319>, line 45)",
     "output_type": "error",
     "traceback": [
      "\u001b[1;36m  File \u001b[1;32m\"<ipython-input-8-ac66f95b8319>\"\u001b[1;36m, line \u001b[1;32m45\u001b[0m\n\u001b[1;33m    break\u001b[0m\n\u001b[1;37m    ^\u001b[0m\n\u001b[1;31mIndentationError\u001b[0m\u001b[1;31m:\u001b[0m unexpected indent\n"
     ]
    }
   ],
   "source": [
    "import random \n",
    "choice=random.randint(1,3)\n",
    "\n",
    "score=0\n",
    " \n",
    "    \n",
    "human =input( \"make a move! (r/s/p)\") \n",
    "\n",
    "print(choice)\n",
    "\n",
    "if choice==1:\n",
    "    computer='r'\n",
    "elif choice==2:\n",
    "    computer='p'\n",
    "else:\n",
    "    computer='s'\n",
    "print(computer )\n",
    "#human_score+=1\n",
    "#computer_score+=1\n",
    "\n",
    "if human==computer:\n",
    "    print(\"Its a tie\")\n",
    "elif human == 'r' and computer=='s':\n",
    "    #return [human_score+1]\n",
    "    print(\"You choice was Rock and Computer choose Scissor. You win!\")\n",
    "elif human =='r' and computer=='p':\n",
    "    print(\"You choice was Rock and Computer choose Paper. Computer wins!\")\n",
    "elif human =='p' and computer =='r':\n",
    "    #return[human_score+1]\n",
    "    print(\"You choice was Paper and Computer choose Rock. You win!\")\n",
    "elif human ==\"p\" and computer=='s':\n",
    "    print(\"You choice was Paper and Computer choose Scissor. Computer wins !\")\n",
    "elif human !=\"p\" and human!=\"s\" and human!=\"r\":\n",
    "    print(\"Your choice was not valid.Please try again\")\n",
    "    \n",
    "again=str(input(\"Do you want to play again?Please enter 'yes' or 'no' \"))\n",
    "if again == \"yes\" :\n",
    "    human =input( \"make a move! (r/s/p)\") \n",
    "if again==\"no\" :\n",
    "    \n",
    "    print(\"Thanks bye!\")\n",
    "    \n",
    "    \n",
    "    \n",
    "        break    \n",
    "    \n"
   ]
  },
  {
   "cell_type": "code",
   "execution_count": null,
   "metadata": {},
   "outputs": [],
   "source": []
  },
  {
   "cell_type": "code",
   "execution_count": null,
   "metadata": {},
   "outputs": [],
   "source": []
  }
 ],
 "metadata": {
  "kernelspec": {
   "display_name": "Python 3",
   "language": "python",
   "name": "python3"
  },
  "language_info": {
   "codemirror_mode": {
    "name": "ipython",
    "version": 3
   },
   "file_extension": ".py",
   "mimetype": "text/x-python",
   "name": "python",
   "nbconvert_exporter": "python",
   "pygments_lexer": "ipython3",
   "version": "3.7.1"
  }
 },
 "nbformat": 4,
 "nbformat_minor": 2
}
